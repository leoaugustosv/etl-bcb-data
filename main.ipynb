{
 "cells": [
  {
   "cell_type": "markdown",
   "id": "7731fd5a",
   "metadata": {},
   "source": [
    "### Imports"
   ]
  },
  {
   "cell_type": "code",
   "execution_count": null,
   "id": "f7141313",
   "metadata": {},
   "outputs": [],
   "source": [
    "import pyspark.sql.functions as F\n",
    "from utils.params import SCHEMA, URL_PARAMETROS, URL_PERIODOS, INSTITUICOES_ESPECIFICAS, PRODUTOS_BKP\n",
    "from utils.helper import *\n",
    "import matplotlib.pyplot as plt\n",
    "import matplotlib.animation as animation\n",
    "import pandas as pd\n",
    "import numpy as np"
   ]
  },
  {
   "cell_type": "markdown",
   "id": "a936c0a5",
   "metadata": {},
   "source": [
    "### SparkSession"
   ]
  },
  {
   "cell_type": "code",
   "execution_count": null,
   "id": "b6cfe41b",
   "metadata": {},
   "outputs": [],
   "source": [
    "from pyspark.sql import SparkSession\n",
    "\n",
    "\n",
    "spark = (\n",
    "    SparkSession.builder\n",
    "    .appName(\"default\")\n",
    "    .getOrCreate()\n",
    ")\n",
    "\n",
    "#https://www.bcb.gov.br/api/servico/sitebcb/historicotaxajurosdiario/TodosCampos?filtro=(codigoSegmento%20eq%20%272%27)%20and%20(codigoModalidade%20eq%20%27211101%27)%20and%20(InicioPeriodo%20eq%20%272025-03-24%27)"
   ]
  },
  {
   "cell_type": "markdown",
   "id": "2172c155",
   "metadata": {},
   "source": [
    "### Parâmetros"
   ]
  },
  {
   "cell_type": "code",
   "execution_count": null,
   "id": "aceb4d9b",
   "metadata": {},
   "outputs": [],
   "source": [
    "PRODUTOS = obter_produtos_bacen(URL_PARAMETROS)\n",
    "PRODUTOS = PRODUTOS if PRODUTOS else PRODUTOS_BKP\n",
    "\n",
    "df_produtos = (\n",
    "    spark.createDataFrame(PRODUTOS)\n",
    "    .selectExpr(\n",
    "        \"codigoModalidade as CD_MODL\",\n",
    "        \"Modalidade as DS_MODL\",\n",
    "        \"codigoSegmento as CD_SEGM\",\n",
    "        \"Segmento as NM_SEGM\",\n",
    "        \"tipoModalidade as TP_MODL\",\n",
    "    )\n",
    "    .withColumn(\"DS_TIPO_PERI_MODL\",\n",
    "                F.when(\n",
    "                    F.col(\"TP_MODL\") == \"M\", F.lit(\"Mensal\")\n",
    "                )\n",
    "                .when(\n",
    "                    F.col(\"TP_MODL\") == \"D\", F.lit(\"Diária\")\n",
    "                )\n",
    "                .when(\n",
    "                    F.col(\"TP_MODL\") == \"A\", F.lit(\"Anual\")\n",
    "                )\n",
    "                .otherwise(\n",
    "                    F.lit(None)\n",
    "                )\n",
    "    )\n",
    "    .withColumn(\"dat_ref_carga\", F.lit(date.today()))\n",
    "    .withColumn(\"dh_exec\", F.lit(datetime.now()))\n",
    ")\n",
    "df_produtos.show()"
   ]
  },
  {
   "cell_type": "markdown",
   "id": "f864efae",
   "metadata": {},
   "source": [
    "### Períodos"
   ]
  },
  {
   "cell_type": "code",
   "execution_count": null,
   "id": "4fe57df8",
   "metadata": {},
   "outputs": [],
   "source": [
    "PERIODOS, PERIODOS_INGEST = obter_periodos_bacen(URL_PERIODOS)\n",
    "\n",
    "print(f\"{PERIODOS['inicio']}\")\n",
    "print(f\"{PERIODOS['final']}\")\n",
    "\n",
    "df_periodos = (\n",
    "    spark.createDataFrame(PERIODOS_INGEST)\n",
    "    .selectExpr(\n",
    "        \"Periodo as DS_PERI\",\n",
    "        \"InicioPeriodo as DT_INIC_PERI\",\n",
    "        \"FimPeriodo as DT_FINA_PERI\",\n",
    "        \"tipoModalidade as TP_MODL\",\n",
    "    )\n",
    "    .withColumn(\"dat_ref_carga\", F.lit(date.today()))\n",
    "    .withColumn(\"dh_exec\", F.lit(datetime.now()))\n",
    ")\n",
    "\n",
    "df_periodos.show()"
   ]
  },
  {
   "cell_type": "markdown",
   "id": "959983fe",
   "metadata": {},
   "source": [
    "### Data única"
   ]
  },
  {
   "cell_type": "code",
   "execution_count": null,
   "id": "7d18b400",
   "metadata": {},
   "outputs": [],
   "source": [
    "\n",
    "df_list = extrair_dados_bacen_data_unica(PRODUTOS, PERIODOS, data_alvo=\"2025-03-26\")\n",
    "\n",
    "df = spark.createDataFrame(df_list, schema=SCHEMA)"
   ]
  },
  {
   "cell_type": "code",
   "execution_count": null,
   "id": "e0a18d07",
   "metadata": {},
   "outputs": [],
   "source": [
    "df.show(truncate=False)"
   ]
  },
  {
   "cell_type": "code",
   "execution_count": null,
   "id": "3ea80846",
   "metadata": {},
   "outputs": [],
   "source": [
    "df.select(\"QT_DIA_APROX\").distinct().show(truncate=False)"
   ]
  },
  {
   "cell_type": "code",
   "execution_count": null,
   "id": "d21d17e1",
   "metadata": {},
   "outputs": [],
   "source": [
    "import pyspark.sql.functions as F\n",
    "\n",
    "df.filter(F.col(\"NR_POSI\") == 1).show(truncate=False)"
   ]
  },
  {
   "cell_type": "markdown",
   "id": "8c80085c",
   "metadata": {},
   "source": [
    "### Mês específico"
   ]
  },
  {
   "cell_type": "code",
   "execution_count": null,
   "id": "b257a882",
   "metadata": {},
   "outputs": [],
   "source": [
    "\n",
    "df_list = extrair_dados_bacen_mes(PRODUTOS, PERIODOS, mes=\"2025-01\")\n",
    "\n",
    "df = spark.createDataFrame(df_list, schema=SCHEMA)"
   ]
  },
  {
   "cell_type": "code",
   "execution_count": null,
   "id": "8981399a",
   "metadata": {},
   "outputs": [],
   "source": [
    "df.show(truncate=False)"
   ]
  },
  {
   "cell_type": "code",
   "execution_count": null,
   "id": "5cc30cd7",
   "metadata": {},
   "outputs": [],
   "source": [
    "df.count()"
   ]
  },
  {
   "cell_type": "code",
   "execution_count": null,
   "id": "1eaac141",
   "metadata": {},
   "outputs": [],
   "source": [
    "df.select(\"dat_ref_carga\").distinct().show(truncate=False)"
   ]
  },
  {
   "cell_type": "markdown",
   "id": "6315ac9b",
   "metadata": {},
   "source": [
    "### Ano específico"
   ]
  },
  {
   "cell_type": "code",
   "execution_count": null,
   "id": "2ee19e1e",
   "metadata": {},
   "outputs": [],
   "source": [
    "df_list = extrair_dados_bacen_ano(PRODUTOS, PERIODOS, ano=\"2025\")\n",
    "\n",
    "df = spark.createDataFrame(df_list, schema=SCHEMA)"
   ]
  },
  {
   "cell_type": "code",
   "execution_count": null,
   "id": "f93913ec",
   "metadata": {},
   "outputs": [],
   "source": [
    "df.show(truncate=False)"
   ]
  },
  {
   "cell_type": "markdown",
   "id": "4b4f4232",
   "metadata": {},
   "source": [
    "### Ano específico com range de meses"
   ]
  },
  {
   "cell_type": "code",
   "execution_count": null,
   "id": "f83fa3dd",
   "metadata": {},
   "outputs": [],
   "source": [
    "df_list = extrair_dados_bacen_ano(PRODUTOS, ano=\"2024\", mes_final = 3)\n",
    "\n",
    "df = spark.createDataFrame(df_list, schema=SCHEMA)"
   ]
  },
  {
   "cell_type": "code",
   "execution_count": null,
   "id": "168d78d8",
   "metadata": {},
   "outputs": [],
   "source": [
    "df.show(truncate=False)"
   ]
  },
  {
   "cell_type": "markdown",
   "id": "fc77d846",
   "metadata": {},
   "source": [
    "## Gráficos"
   ]
  },
  {
   "cell_type": "code",
   "execution_count": null,
   "id": "a535a702",
   "metadata": {},
   "outputs": [],
   "source": [
    "pddf = (\n",
    "    df.toPandas()\n",
    ")\n",
    "\n",
    "pddf = (\n",
    "    pddf[\n",
    "        [\n",
    "            \"NM_BANK\",\n",
    "            \"NM_SEGM\",\n",
    "            \"DS_MODL\",\n",
    "            \"NR_POSI\",\n",
    "            \"IN_INIC_PERI_EXAT\",\n",
    "            \"DT_APROX\",\n",
    "            \"QT_DIA_APROX\",\n",
    "            \"VL_TAXA_JURO_AM\",\n",
    "            \"VL_TAXA_JURO_AA\",\n",
    "            \"dat_ref_carga\"\n",
    "        ]\n",
    "    ]\n",
    "    .rename(\n",
    "        columns={\"dat_ref_carga\":\"DT_TAXA\"}\n",
    "    )\n",
    ")\n",
    "cols = pddf.columns\n",
    "print(pddf.columns)\n",
    "pddf.head(20)"
   ]
  },
  {
   "cell_type": "markdown",
   "id": "6bfcc52b",
   "metadata": {},
   "source": [
    "#### Taxas de juros (AM) por instituição, ao longo do tempo, em cada modalidade"
   ]
  },
  {
   "cell_type": "code",
   "execution_count": null,
   "id": "f8be1049",
   "metadata": {},
   "outputs": [],
   "source": [
    "taxas_df = (\n",
    "    pddf[\n",
    "        [\"NM_BANK\",\"DT_TAXA\", \"DS_MODL\", \"VL_TAXA_JURO_AM\", \"NR_POSI\"]\n",
    "    ].copy()\n",
    ")\n",
    "taxas_df[\"DT_TAXA\"] = pd.to_datetime(taxas_df[\"DT_TAXA\"], format='%Y-%m-%d')\n",
    "cols = taxas_df.columns\n",
    "modalidades = taxas_df[\"DS_MODL\"].copy().drop_duplicates().to_list()\n",
    "\n",
    "\n",
    "print(f\"Instituições distintas: {taxas_df['NM_BANK'].copy().drop_duplicates().count()}\")\n",
    "print(f\"Datas distintas: {taxas_df['DT_TAXA'].copy().drop_duplicates().count()}\")\n",
    "print(f\"Modalidades distintas: {len(modalidades)}\")\n",
    "\n",
    "print(f\"\\nSchema:\\n{taxas_df.dtypes}\")\n",
    "\n",
    "\n",
    "taxas_df.head()"
   ]
  },
  {
   "cell_type": "code",
   "execution_count": null,
   "id": "ac80df15",
   "metadata": {},
   "outputs": [],
   "source": [
    "for modl in modalidades:\n",
    "    modl_df = taxas_df[taxas_df[\"DS_MODL\"] == modl]\n",
    "    qtd_instituicoes = modl_df[\"NM_BANK\"].drop_duplicates().count()\n",
    "    print(f\"{modl}: {qtd_instituicoes} instituições\")\n",
    "\n",
    "    lista_top_bancos_por_modl = (\n",
    "        modl_df\n",
    "        .groupby([\"NM_BANK\"])\n",
    "        .agg({\n",
    "            \"NR_POSI\": [\"mean\",\"count\"]\n",
    "        })\n",
    "        .reset_index()\n",
    "    )\n",
    "\n",
    "    lista_top_bancos_por_modl.columns = ['NM_BANK', 'NR_POSI_mean', 'NR_POSI_count']\n",
    "\n",
    "    lista_top_bancos_por_modl = (\n",
    "        lista_top_bancos_por_modl[lista_top_bancos_por_modl[\"NR_POSI_count\"] >= 15]\n",
    "        .sort_values(by=\"NR_POSI_mean\", ascending=True)\n",
    "        [\"NM_BANK\"]\n",
    "        .tolist()\n",
    "    )\n",
    "\n",
    "    lista_bancos_especificos_modl = modl_df[modl_df[\"NM_BANK\"].isin(INSTITUICOES_ESPECIFICAS)].sort_values(by=\"VL_TAXA_JURO_AM\", ascending=True)[\"NM_BANK\"].drop_duplicates().tolist()\n",
    "\n",
    "    plt.figure(figsize=(20, 6))\n",
    "\n",
    "    for banco in lista_bancos_especificos_modl[:10]:\n",
    "        banco_df = modl_df[modl_df[\"NM_BANK\"] == banco]\n",
    "        plt.plot(banco_df[\"DT_TAXA\"], banco_df[\"VL_TAXA_JURO_AM\"], label=banco, marker='o', alpha=0.8)\n",
    "\n",
    "    # Config gráfico\n",
    "    plt.title(f\"{modl}: ao mês\")\n",
    "    plt.ylabel(\"Taxa\")\n",
    "    plt.xlabel(\"Data\")\n",
    "    plt.legend(title=\"Instituições\")\n",
    "    plt.xticks(rotation=45)\n",
    "    plt.grid(True)\n",
    "\n",
    "    plt.show()\n"
   ]
  }
 ],
 "metadata": {
  "kernelspec": {
   "display_name": "env",
   "language": "python",
   "name": "python3"
  },
  "language_info": {
   "codemirror_mode": {
    "name": "ipython",
    "version": 3
   },
   "file_extension": ".py",
   "mimetype": "text/x-python",
   "name": "python",
   "nbconvert_exporter": "python",
   "pygments_lexer": "ipython3",
   "version": "3.10.0"
  }
 },
 "nbformat": 4,
 "nbformat_minor": 5
}
