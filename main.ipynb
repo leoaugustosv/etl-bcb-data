{
 "cells": [
  {
   "cell_type": "markdown",
   "id": "a936c0a5",
   "metadata": {},
   "source": [
    "### SparkSession"
   ]
  },
  {
   "cell_type": "code",
   "execution_count": null,
   "id": "b6cfe41b",
   "metadata": {},
   "outputs": [],
   "source": [
    "from pyspark.sql import SparkSession\n",
    "from utils.params import SCHEMA, URL_PARAMETROS, PRODUTOS_BKP\n",
    "from utils.helper import *\n",
    "\n",
    "\n",
    "spark = (\n",
    "    SparkSession.builder\n",
    "    .appName(\"default\")\n",
    "    .getOrCreate()\n",
    ")\n",
    "\n",
    "#https://www.bcb.gov.br/api/servico/sitebcb/historicotaxajurosdiario/TodosCampos?filtro=(codigoSegmento%20eq%20%272%27)%20and%20(codigoModalidade%20eq%20%27211101%27)%20and%20(InicioPeriodo%20eq%20%272025-03-24%27)"
   ]
  },
  {
   "cell_type": "code",
   "execution_count": null,
   "id": "aceb4d9b",
   "metadata": {},
   "outputs": [],
   "source": [
    "PRODUTOS = obter_produtos_bacen(URL_PARAMETROS)\n",
    "PRODUTOS = PRODUTOS if PRODUTOS else PRODUTOS_BKP\n",
    "print(f\"{PRODUTOS}\")"
   ]
  },
  {
   "cell_type": "markdown",
   "id": "959983fe",
   "metadata": {},
   "source": [
    "### Data única"
   ]
  },
  {
   "cell_type": "code",
   "execution_count": null,
   "id": "7d18b400",
   "metadata": {},
   "outputs": [],
   "source": [
    "\n",
    "df_list = extrair_dados_bacen_data_unica(PRODUTOS, data_alvo=\"2025-01-06\")\n",
    "\n",
    "df = spark.createDataFrame(df_list, schema=SCHEMA)"
   ]
  },
  {
   "cell_type": "code",
   "execution_count": null,
   "id": "e0a18d07",
   "metadata": {},
   "outputs": [],
   "source": [
    "df.show(truncate=False)"
   ]
  },
  {
   "cell_type": "code",
   "execution_count": null,
   "id": "3ea80846",
   "metadata": {},
   "outputs": [],
   "source": [
    "df.select(\"QT_DIA_APROX\").distinct().show(truncate=False)"
   ]
  },
  {
   "cell_type": "code",
   "execution_count": null,
   "id": "d21d17e1",
   "metadata": {},
   "outputs": [],
   "source": [
    "import pyspark.sql.functions as F\n",
    "\n",
    "df.filter(F.col(\"NR_POSI\") == 1).show(truncate=False)"
   ]
  },
  {
   "cell_type": "markdown",
   "id": "8c80085c",
   "metadata": {},
   "source": [
    "### Mês específico"
   ]
  },
  {
   "cell_type": "code",
   "execution_count": null,
   "id": "b257a882",
   "metadata": {},
   "outputs": [],
   "source": [
    "\n",
    "df_list = extrair_dados_bacen_mes(PRODUTOS, mes=\"2025-01\")\n",
    "\n",
    "df = spark.createDataFrame(df_list, schema=SCHEMA)"
   ]
  },
  {
   "cell_type": "code",
   "execution_count": null,
   "id": "8981399a",
   "metadata": {},
   "outputs": [],
   "source": [
    "df.show(truncate=False)"
   ]
  },
  {
   "cell_type": "code",
   "execution_count": null,
   "id": "5cc30cd7",
   "metadata": {},
   "outputs": [],
   "source": [
    "df.count()"
   ]
  },
  {
   "cell_type": "code",
   "execution_count": null,
   "id": "1eaac141",
   "metadata": {},
   "outputs": [],
   "source": [
    "df.select(\"dat_ref_carga\").distinct().show(truncate=False)"
   ]
  },
  {
   "cell_type": "markdown",
   "id": "6315ac9b",
   "metadata": {},
   "source": [
    "### Ano específico"
   ]
  },
  {
   "cell_type": "code",
   "execution_count": null,
   "id": "2ee19e1e",
   "metadata": {},
   "outputs": [],
   "source": [
    "df_list = extrair_dados_bacen_ano(PRODUTOS, ano=\"2025\")\n",
    "\n",
    "df = spark.createDataFrame(df_list, schema=SCHEMA)"
   ]
  },
  {
   "cell_type": "code",
   "execution_count": null,
   "id": "f93913ec",
   "metadata": {},
   "outputs": [],
   "source": [
    "df.show(truncate=False)"
   ]
  },
  {
   "cell_type": "markdown",
   "id": "4b4f4232",
   "metadata": {},
   "source": [
    "### Ano específico com range de meses"
   ]
  },
  {
   "cell_type": "code",
   "execution_count": null,
   "id": "f83fa3dd",
   "metadata": {},
   "outputs": [],
   "source": [
    "df_list = extrair_dados_bacen_ano(PRODUTOS, ano=\"2025\", mes_final = 3)\n",
    "\n",
    "df = spark.createDataFrame(df_list, schema=SCHEMA)"
   ]
  },
  {
   "cell_type": "code",
   "execution_count": null,
   "id": "168d78d8",
   "metadata": {},
   "outputs": [],
   "source": [
    "df.show(truncate=False)"
   ]
  }
 ],
 "metadata": {
  "kernelspec": {
   "display_name": "env",
   "language": "python",
   "name": "python3"
  },
  "language_info": {
   "codemirror_mode": {
    "name": "ipython",
    "version": 3
   },
   "file_extension": ".py",
   "mimetype": "text/x-python",
   "name": "python",
   "nbconvert_exporter": "python",
   "pygments_lexer": "ipython3",
   "version": "3.10.0"
  }
 },
 "nbformat": 4,
 "nbformat_minor": 5
}
