{
 "cells": [
  {
   "cell_type": "markdown",
   "id": "a936c0a5",
   "metadata": {},
   "source": [
    "### SparkSession"
   ]
  },
  {
   "cell_type": "code",
   "execution_count": null,
   "id": "b6cfe41b",
   "metadata": {},
   "outputs": [],
   "source": [
    "from pyspark.sql import SparkSession\n",
    "\n",
    "spark = (\n",
    "    SparkSession.builder\n",
    "    .appName(\"default\")\n",
    "    .getOrCreate()\n",
    ")\n",
    "\n",
    "#https://www.bcb.gov.br/api/servico/sitebcb/historicotaxajurosdiario/TodosCampos?filtro=(codigoSegmento%20eq%20%272%27)%20and%20(codigoModalidade%20eq%20%27211101%27)%20and%20(InicioPeriodo%20eq%20%272025-03-24%27)"
   ]
  },
  {
   "cell_type": "markdown",
   "id": "959983fe",
   "metadata": {},
   "source": [
    "### Data única"
   ]
  },
  {
   "cell_type": "code",
   "execution_count": null,
   "id": "7d18b400",
   "metadata": {},
   "outputs": [],
   "source": [
    "\n",
    "from utils.params import PRODUTOS, PRODUTOS_TST\n",
    "from utils.helper import *\n",
    "from pyspark.sql.types import StructField, StructType, StringType, IntegerType, DoubleType, TimestampType\n",
    "\n",
    "df_list = extrair_dados_bacen_data_unica(PRODUTOS, data_alvo=\"2025-03-24\")\n",
    "\n",
    "schema = StructType([\n",
    "        StructField(\"NM_BANK\", StringType(), True),\n",
    "        StructField(\"NM_SEGM\", StringType(), True),\n",
    "        StructField(\"DS_PROD\", StringType(), True),\n",
    "        StructField(\"CD_SEGM\", StringType(), True),\n",
    "        StructField(\"CD_MODL\", StringType(), True),\n",
    "        StructField(\"NR_POSI\", IntegerType(), True),\n",
    "        StructField(\"DS_MODL\", StringType(), True),\n",
    "        StructField(\"DT_ALVO\", StringType(), True),\n",
    "        StructField(\"IN_INIC_PERI_EXAT\", IntegerType(), True),\n",
    "        StructField(\"DT_APROX\", StringType(), True),\n",
    "        StructField(\"QT_DIA_APROX\", IntegerType(), True),\n",
    "        StructField(\"VL_TAXA_JURO_AM\", DoubleType(), True),\n",
    "        StructField(\"VL_TAXA_JURO_AA\", DoubleType(), True),\n",
    "        StructField(\"dat_ref_carga\", StringType(), True),\n",
    "        StructField(\"dh_exec\", TimestampType(), True),\n",
    "    ])\n",
    "\n",
    "df = spark.createDataFrame(df_list, schema=schema)"
   ]
  },
  {
   "cell_type": "code",
   "execution_count": null,
   "id": "e0a18d07",
   "metadata": {},
   "outputs": [],
   "source": [
    "df.show(truncate=False)"
   ]
  },
  {
   "cell_type": "code",
   "execution_count": null,
   "id": "3ea80846",
   "metadata": {},
   "outputs": [],
   "source": [
    "df.select(\"DS_PROD\").distinct().show(truncate=False)"
   ]
  },
  {
   "cell_type": "code",
   "execution_count": null,
   "id": "d21d17e1",
   "metadata": {},
   "outputs": [],
   "source": [
    "import pyspark.sql.functions as F\n",
    "\n",
    "df.filter(F.col(\"NR_POSI\") == 1).show(truncate=False)"
   ]
  }
 ],
 "metadata": {
  "kernelspec": {
   "display_name": "env",
   "language": "python",
   "name": "python3"
  },
  "language_info": {
   "codemirror_mode": {
    "name": "ipython",
    "version": 3
   },
   "file_extension": ".py",
   "mimetype": "text/x-python",
   "name": "python",
   "nbconvert_exporter": "python",
   "pygments_lexer": "ipython3",
   "version": "3.10.0"
  }
 },
 "nbformat": 4,
 "nbformat_minor": 5
}
